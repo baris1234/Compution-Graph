{
 "cells": [
  {
   "cell_type": "code",
   "execution_count": 1,
   "metadata": {},
   "outputs": [],
   "source": [
    "import tf_Graph as tf"
   ]
  },
  {
   "cell_type": "code",
   "execution_count": 2,
   "metadata": {},
   "outputs": [
    {
     "name": "stdout",
     "output_type": "stream",
     "text": [
      "3.75\n"
     ]
    }
   ],
   "source": [
    "# create default graph\n",
    "tf.Graph().as_default()\n",
    "\n",
    "# construct computational graph by creating some nodes\n",
    "a = tf.Constant(15)\n",
    "b = tf.Constant(5)\n",
    "prod = tf.multiply(a, b)\n",
    "sum = tf.add(a, b)\n",
    "res = tf.divide(prod, sum)\n",
    "\n",
    "# create a session object\n",
    "session = tf.Session()\n",
    "\n",
    "# run computational graph to compute the output for 'res'\n",
    "out = session.run(res)\n",
    "print(out)"
   ]
  },
  {
   "cell_type": "code",
   "execution_count": null,
   "metadata": {},
   "outputs": [],
   "source": []
  }
 ],
 "metadata": {
  "kernelspec": {
   "display_name": "Python 3",
   "language": "python",
   "name": "python3"
  },
  "language_info": {
   "codemirror_mode": {
    "name": "ipython",
    "version": 3
   },
   "file_extension": ".py",
   "mimetype": "text/x-python",
   "name": "python",
   "nbconvert_exporter": "python",
   "pygments_lexer": "ipython3",
   "version": "3.6.8"
  }
 },
 "nbformat": 4,
 "nbformat_minor": 2
}
